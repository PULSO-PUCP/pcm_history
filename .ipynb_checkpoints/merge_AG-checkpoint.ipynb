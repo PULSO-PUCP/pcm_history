{
 "cells": [
  {
   "cell_type": "code",
   "execution_count": 1,
   "id": "d295bdda-e6a3-4e62-b102-3f85e63a95a9",
   "metadata": {},
   "outputs": [],
   "source": [
    "import pandas as pd\n",
    "\n",
    "spells_split=pd.read_parquet('ag_primesmodel.parquet')\n",
    "gdp_split=pd.read_parquet('gdps.parquet')\n",
    "censura_split=pd.read_parquet('censoring_inQ_model.parquet')"
   ]
  },
  {
   "cell_type": "code",
   "execution_count": 3,
   "id": "f0073f83-719d-4954-814d-257b5531a407",
   "metadata": {},
   "outputs": [
    {
     "data": {
      "text/html": [
       "<div>\n",
       "<style scoped>\n",
       "    .dataframe tbody tr th:only-of-type {\n",
       "        vertical-align: middle;\n",
       "    }\n",
       "\n",
       "    .dataframe tbody tr th {\n",
       "        vertical-align: top;\n",
       "    }\n",
       "\n",
       "    .dataframe thead th {\n",
       "        text-align: right;\n",
       "    }\n",
       "</style>\n",
       "<table border=\"1\" class=\"dataframe\">\n",
       "  <thead>\n",
       "    <tr style=\"text-align: right;\">\n",
       "      <th></th>\n",
       "      <th>trimestre</th>\n",
       "      <th>gdp</th>\n",
       "      <th>pandas_quarter</th>\n",
       "    </tr>\n",
       "  </thead>\n",
       "  <tbody>\n",
       "    <tr>\n",
       "      <th>0</th>\n",
       "      <td>T180</td>\n",
       "      <td>5.342723</td>\n",
       "      <td>1980Q1</td>\n",
       "    </tr>\n",
       "    <tr>\n",
       "      <th>1</th>\n",
       "      <td>T280</td>\n",
       "      <td>5.430510</td>\n",
       "      <td>1980Q2</td>\n",
       "    </tr>\n",
       "    <tr>\n",
       "      <th>2</th>\n",
       "      <td>T380</td>\n",
       "      <td>4.115650</td>\n",
       "      <td>1980Q3</td>\n",
       "    </tr>\n",
       "    <tr>\n",
       "      <th>3</th>\n",
       "      <td>T480</td>\n",
       "      <td>8.554780</td>\n",
       "      <td>1980Q4</td>\n",
       "    </tr>\n",
       "    <tr>\n",
       "      <th>4</th>\n",
       "      <td>T181</td>\n",
       "      <td>7.339334</td>\n",
       "      <td>1981Q1</td>\n",
       "    </tr>\n",
       "  </tbody>\n",
       "</table>\n",
       "</div>"
      ],
      "text/plain": [
       "  trimestre       gdp pandas_quarter\n",
       "0      T180  5.342723         1980Q1\n",
       "1      T280  5.430510         1980Q2\n",
       "2      T380  4.115650         1980Q3\n",
       "3      T480  8.554780         1980Q4\n",
       "4      T181  7.339334         1981Q1"
      ]
     },
     "execution_count": 3,
     "metadata": {},
     "output_type": "execute_result"
    }
   ],
   "source": [
    "gdp_split.head()"
   ]
  },
  {
   "cell_type": "code",
   "execution_count": 6,
   "id": "77edc279-d21a-4172-ac6b-0c1d088c87a5",
   "metadata": {},
   "outputs": [
    {
     "data": {
      "text/html": [
       "<div>\n",
       "<style scoped>\n",
       "    .dataframe tbody tr th:only-of-type {\n",
       "        vertical-align: middle;\n",
       "    }\n",
       "\n",
       "    .dataframe tbody tr th {\n",
       "        vertical-align: top;\n",
       "    }\n",
       "\n",
       "    .dataframe thead th {\n",
       "        text-align: right;\n",
       "    }\n",
       "</style>\n",
       "<table border=\"1\" class=\"dataframe\">\n",
       "  <thead>\n",
       "    <tr style=\"text-align: right;\">\n",
       "      <th></th>\n",
       "      <th>quarter</th>\n",
       "      <th>cases</th>\n",
       "      <th>quarter_merge</th>\n",
       "    </tr>\n",
       "  </thead>\n",
       "  <tbody>\n",
       "    <tr>\n",
       "      <th>0</th>\n",
       "      <td>1980Q1</td>\n",
       "      <td>0</td>\n",
       "      <td>1980Q1</td>\n",
       "    </tr>\n",
       "    <tr>\n",
       "      <th>1</th>\n",
       "      <td>1980Q2</td>\n",
       "      <td>0</td>\n",
       "      <td>1980Q2</td>\n",
       "    </tr>\n",
       "    <tr>\n",
       "      <th>2</th>\n",
       "      <td>1980Q3</td>\n",
       "      <td>0</td>\n",
       "      <td>1980Q3</td>\n",
       "    </tr>\n",
       "    <tr>\n",
       "      <th>3</th>\n",
       "      <td>1980Q4</td>\n",
       "      <td>0</td>\n",
       "      <td>1980Q4</td>\n",
       "    </tr>\n",
       "    <tr>\n",
       "      <th>4</th>\n",
       "      <td>1981Q1</td>\n",
       "      <td>0</td>\n",
       "      <td>1981Q1</td>\n",
       "    </tr>\n",
       "  </tbody>\n",
       "</table>\n",
       "</div>"
      ],
      "text/plain": [
       "  quarter  cases quarter_merge\n",
       "0  1980Q1      0        1980Q1\n",
       "1  1980Q2      0        1980Q2\n",
       "2  1980Q3      0        1980Q3\n",
       "3  1980Q4      0        1980Q4\n",
       "4  1981Q1      0        1981Q1"
      ]
     },
     "execution_count": 6,
     "metadata": {},
     "output_type": "execute_result"
    }
   ],
   "source": [
    "censura_split.head()"
   ]
  },
  {
   "cell_type": "code",
   "execution_count": 9,
   "id": "d80cc11d-567b-42d7-83c1-a58788a3ebf5",
   "metadata": {},
   "outputs": [],
   "source": [
    "ag_total=spells_split.merge(gdp_split,left_on='Quarter',right_on='pandas_quarter',how='left')\n",
    "ag_total=ag_total.merge(censura_split,left_on='Quarter',right_on='quarter_merge',how='left')"
   ]
  },
  {
   "cell_type": "code",
   "execution_count": 10,
   "id": "abab9d7c-0ab7-46c9-a9a4-9357a1d724db",
   "metadata": {},
   "outputs": [
    {
     "data": {
      "text/plain": [
       "Index(['id', 'start', 'stop', 'event', 'regimeFujimori',\n",
       "       'technocrat_trait_ltm', 'PresidentOfExecutive', 'duration', 'Quarter',\n",
       "       'trimestre', 'gdp', 'pandas_quarter', 'quarter', 'cases',\n",
       "       'quarter_merge'],\n",
       "      dtype='object')"
      ]
     },
     "execution_count": 10,
     "metadata": {},
     "output_type": "execute_result"
    }
   ],
   "source": [
    "ag_total.columns"
   ]
  },
  {
   "cell_type": "code",
   "execution_count": 12,
   "id": "a24f041c-eeb0-4c80-86ad-24a65b91e43c",
   "metadata": {},
   "outputs": [],
   "source": [
    "ag_total=ag_total.loc[:,['id', 'start', 'stop', 'event', 'regimeFujimori',\n",
    "       'technocrat_trait_ltm', 'PresidentOfExecutive', 'duration', 'Quarter','gdp', 'cases']]"
   ]
  },
  {
   "cell_type": "code",
   "execution_count": 13,
   "id": "05e94905-925c-49b0-9e15-cc7ea6128b0d",
   "metadata": {},
   "outputs": [
    {
     "name": "stdout",
     "output_type": "stream",
     "text": [
      "<class 'pandas.core.frame.DataFrame'>\n",
      "RangeIndex: 239 entries, 0 to 238\n",
      "Data columns (total 11 columns):\n",
      " #   Column                Non-Null Count  Dtype         \n",
      "---  ------                --------------  -----         \n",
      " 0   id                    239 non-null    object        \n",
      " 1   start                 239 non-null    datetime64[ns]\n",
      " 2   stop                  239 non-null    datetime64[ns]\n",
      " 3   event                 239 non-null    int64         \n",
      " 4   regimeFujimori        239 non-null    int64         \n",
      " 5   technocrat_trait_ltm  239 non-null    float64       \n",
      " 6   PresidentOfExecutive  239 non-null    object        \n",
      " 7   duration              239 non-null    int64         \n",
      " 8   Quarter               239 non-null    object        \n",
      " 9   gdp                   236 non-null    float64       \n",
      " 10  cases                 237 non-null    float64       \n",
      "dtypes: datetime64[ns](2), float64(3), int64(3), object(3)\n",
      "memory usage: 20.7+ KB\n"
     ]
    }
   ],
   "source": [
    "ag_total.info()"
   ]
  },
  {
   "cell_type": "code",
   "execution_count": null,
   "id": "586ec063-72ed-4740-8f63-dd9b9cc173fd",
   "metadata": {},
   "outputs": [],
   "source": []
  }
 ],
 "metadata": {
  "kernelspec": {
   "display_name": "Python 3 (ipykernel)",
   "language": "python",
   "name": "python3"
  },
  "language_info": {
   "codemirror_mode": {
    "name": "ipython",
    "version": 3
   },
   "file_extension": ".py",
   "mimetype": "text/x-python",
   "name": "python",
   "nbconvert_exporter": "python",
   "pygments_lexer": "ipython3",
   "version": "3.11.9"
  }
 },
 "nbformat": 4,
 "nbformat_minor": 5
}
