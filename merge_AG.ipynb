{
 "cells": [
  {
   "cell_type": "code",
   "execution_count": 1,
   "id": "d295bdda-e6a3-4e62-b102-3f85e63a95a9",
   "metadata": {},
   "outputs": [],
   "source": [
    "import pandas as pd\n",
    "\n",
    "spells_split=pd.read_parquet('ag_primesmodel.parquet')\n",
    "gdp_split=pd.read_parquet('gdps.parquet')\n",
    "censura_split=pd.read_parquet('censoring_inQ_model.parquet')"
   ]
  },
  {
   "cell_type": "code",
   "execution_count": 3,
   "id": "f0073f83-719d-4954-814d-257b5531a407",
   "metadata": {},
   "outputs": [
    {
     "data": {
      "text/html": [
       "<div>\n",
       "<style scoped>\n",
       "    .dataframe tbody tr th:only-of-type {\n",
       "        vertical-align: middle;\n",
       "    }\n",
       "\n",
       "    .dataframe tbody tr th {\n",
       "        vertical-align: top;\n",
       "    }\n",
       "\n",
       "    .dataframe thead th {\n",
       "        text-align: right;\n",
       "    }\n",
       "</style>\n",
       "<table border=\"1\" class=\"dataframe\">\n",
       "  <thead>\n",
       "    <tr style=\"text-align: right;\">\n",
       "      <th></th>\n",
       "      <th>trimestre</th>\n",
       "      <th>gdp</th>\n",
       "      <th>pandas_quarter</th>\n",
       "    </tr>\n",
       "  </thead>\n",
       "  <tbody>\n",
       "    <tr>\n",
       "      <th>0</th>\n",
       "      <td>T180</td>\n",
       "      <td>5.342723</td>\n",
       "      <td>1980Q1</td>\n",
       "    </tr>\n",
       "    <tr>\n",
       "      <th>1</th>\n",
       "      <td>T280</td>\n",
       "      <td>5.430510</td>\n",
       "      <td>1980Q2</td>\n",
       "    </tr>\n",
       "    <tr>\n",
       "      <th>2</th>\n",
       "      <td>T380</td>\n",
       "      <td>4.115650</td>\n",
       "      <td>1980Q3</td>\n",
       "    </tr>\n",
       "    <tr>\n",
       "      <th>3</th>\n",
       "      <td>T480</td>\n",
       "      <td>8.554780</td>\n",
       "      <td>1980Q4</td>\n",
       "    </tr>\n",
       "    <tr>\n",
       "      <th>4</th>\n",
       "      <td>T181</td>\n",
       "      <td>7.339334</td>\n",
       "      <td>1981Q1</td>\n",
       "    </tr>\n",
       "  </tbody>\n",
       "</table>\n",
       "</div>"
      ],
      "text/plain": [
       "  trimestre       gdp pandas_quarter\n",
       "0      T180  5.342723         1980Q1\n",
       "1      T280  5.430510         1980Q2\n",
       "2      T380  4.115650         1980Q3\n",
       "3      T480  8.554780         1980Q4\n",
       "4      T181  7.339334         1981Q1"
      ]
     },
     "execution_count": 3,
     "metadata": {},
     "output_type": "execute_result"
    }
   ],
   "source": [
    "gdp_split.head()"
   ]
  },
  {
   "cell_type": "code",
   "execution_count": 6,
   "id": "77edc279-d21a-4172-ac6b-0c1d088c87a5",
   "metadata": {},
   "outputs": [
    {
     "data": {
      "text/html": [
       "<div>\n",
       "<style scoped>\n",
       "    .dataframe tbody tr th:only-of-type {\n",
       "        vertical-align: middle;\n",
       "    }\n",
       "\n",
       "    .dataframe tbody tr th {\n",
       "        vertical-align: top;\n",
       "    }\n",
       "\n",
       "    .dataframe thead th {\n",
       "        text-align: right;\n",
       "    }\n",
       "</style>\n",
       "<table border=\"1\" class=\"dataframe\">\n",
       "  <thead>\n",
       "    <tr style=\"text-align: right;\">\n",
       "      <th></th>\n",
       "      <th>quarter</th>\n",
       "      <th>cases</th>\n",
       "      <th>quarter_merge</th>\n",
       "    </tr>\n",
       "  </thead>\n",
       "  <tbody>\n",
       "    <tr>\n",
       "      <th>0</th>\n",
       "      <td>1980Q1</td>\n",
       "      <td>0</td>\n",
       "      <td>1980Q1</td>\n",
       "    </tr>\n",
       "    <tr>\n",
       "      <th>1</th>\n",
       "      <td>1980Q2</td>\n",
       "      <td>0</td>\n",
       "      <td>1980Q2</td>\n",
       "    </tr>\n",
       "    <tr>\n",
       "      <th>2</th>\n",
       "      <td>1980Q3</td>\n",
       "      <td>0</td>\n",
       "      <td>1980Q3</td>\n",
       "    </tr>\n",
       "    <tr>\n",
       "      <th>3</th>\n",
       "      <td>1980Q4</td>\n",
       "      <td>0</td>\n",
       "      <td>1980Q4</td>\n",
       "    </tr>\n",
       "    <tr>\n",
       "      <th>4</th>\n",
       "      <td>1981Q1</td>\n",
       "      <td>0</td>\n",
       "      <td>1981Q1</td>\n",
       "    </tr>\n",
       "  </tbody>\n",
       "</table>\n",
       "</div>"
      ],
      "text/plain": [
       "  quarter  cases quarter_merge\n",
       "0  1980Q1      0        1980Q1\n",
       "1  1980Q2      0        1980Q2\n",
       "2  1980Q3      0        1980Q3\n",
       "3  1980Q4      0        1980Q4\n",
       "4  1981Q1      0        1981Q1"
      ]
     },
     "execution_count": 6,
     "metadata": {},
     "output_type": "execute_result"
    }
   ],
   "source": [
    "censura_split.head()"
   ]
  },
  {
   "cell_type": "code",
   "execution_count": 9,
   "id": "d80cc11d-567b-42d7-83c1-a58788a3ebf5",
   "metadata": {},
   "outputs": [],
   "source": [
    "ag_total=spells_split.merge(gdp_split,left_on='Quarter',right_on='pandas_quarter',how='left')\n",
    "ag_total=ag_total.merge(censura_split,left_on='Quarter',right_on='quarter_merge',how='left')"
   ]
  },
  {
   "cell_type": "code",
   "execution_count": 10,
   "id": "abab9d7c-0ab7-46c9-a9a4-9357a1d724db",
   "metadata": {},
   "outputs": [
    {
     "data": {
      "text/plain": [
       "Index(['id', 'start', 'stop', 'event', 'regimeFujimori',\n",
       "       'technocrat_trait_ltm', 'PresidentOfExecutive', 'duration', 'Quarter',\n",
       "       'trimestre', 'gdp', 'pandas_quarter', 'quarter', 'cases',\n",
       "       'quarter_merge'],\n",
       "      dtype='object')"
      ]
     },
     "execution_count": 10,
     "metadata": {},
     "output_type": "execute_result"
    }
   ],
   "source": [
    "ag_total.columns"
   ]
  },
  {
   "cell_type": "code",
   "execution_count": 12,
   "id": "a24f041c-eeb0-4c80-86ad-24a65b91e43c",
   "metadata": {},
   "outputs": [],
   "source": [
    "ag_total=ag_total.loc[:,['id', 'start', 'stop', 'event', 'regimeFujimori',\n",
    "       'technocrat_trait_ltm', 'PresidentOfExecutive', 'duration', 'Quarter','gdp', 'cases']]"
   ]
  },
  {
   "cell_type": "code",
   "execution_count": 13,
   "id": "05e94905-925c-49b0-9e15-cc7ea6128b0d",
   "metadata": {},
   "outputs": [
    {
     "name": "stdout",
     "output_type": "stream",
     "text": [
      "<class 'pandas.core.frame.DataFrame'>\n",
      "RangeIndex: 239 entries, 0 to 238\n",
      "Data columns (total 11 columns):\n",
      " #   Column                Non-Null Count  Dtype         \n",
      "---  ------                --------------  -----         \n",
      " 0   id                    239 non-null    object        \n",
      " 1   start                 239 non-null    datetime64[ns]\n",
      " 2   stop                  239 non-null    datetime64[ns]\n",
      " 3   event                 239 non-null    int64         \n",
      " 4   regimeFujimori        239 non-null    int64         \n",
      " 5   technocrat_trait_ltm  239 non-null    float64       \n",
      " 6   PresidentOfExecutive  239 non-null    object        \n",
      " 7   duration              239 non-null    int64         \n",
      " 8   Quarter               239 non-null    object        \n",
      " 9   gdp                   236 non-null    float64       \n",
      " 10  cases                 237 non-null    float64       \n",
      "dtypes: datetime64[ns](2), float64(3), int64(3), object(3)\n",
      "memory usage: 20.7+ KB\n"
     ]
    }
   ],
   "source": [
    "ag_total.info()"
   ]
  },
  {
   "cell_type": "code",
   "execution_count": 14,
   "id": "586ec063-72ed-4740-8f63-dd9b9cc173fd",
   "metadata": {},
   "outputs": [
    {
     "data": {
      "text/html": [
       "<div>\n",
       "<style scoped>\n",
       "    .dataframe tbody tr th:only-of-type {\n",
       "        vertical-align: middle;\n",
       "    }\n",
       "\n",
       "    .dataframe tbody tr th {\n",
       "        vertical-align: top;\n",
       "    }\n",
       "\n",
       "    .dataframe thead th {\n",
       "        text-align: right;\n",
       "    }\n",
       "</style>\n",
       "<table border=\"1\" class=\"dataframe\">\n",
       "  <thead>\n",
       "    <tr style=\"text-align: right;\">\n",
       "      <th></th>\n",
       "      <th>id</th>\n",
       "      <th>start</th>\n",
       "      <th>stop</th>\n",
       "      <th>event</th>\n",
       "      <th>regimeFujimori</th>\n",
       "      <th>technocrat_trait_ltm</th>\n",
       "      <th>PresidentOfExecutive</th>\n",
       "      <th>duration</th>\n",
       "      <th>Quarter</th>\n",
       "      <th>gdp</th>\n",
       "      <th>cases</th>\n",
       "    </tr>\n",
       "  </thead>\n",
       "  <tbody>\n",
       "    <tr>\n",
       "      <th>0</th>\n",
       "      <td>Manuel Ulloa Elías</td>\n",
       "      <td>1980-07-01</td>\n",
       "      <td>1980-09-30</td>\n",
       "      <td>0</td>\n",
       "      <td>0</td>\n",
       "      <td>-0.233155</td>\n",
       "      <td>Fernando Belaúnde Terry (II)</td>\n",
       "      <td>91</td>\n",
       "      <td>1980Q3</td>\n",
       "      <td>4.115650</td>\n",
       "      <td>0.0</td>\n",
       "    </tr>\n",
       "    <tr>\n",
       "      <th>1</th>\n",
       "      <td>Manuel Ulloa Elías</td>\n",
       "      <td>1980-10-01</td>\n",
       "      <td>1980-12-31</td>\n",
       "      <td>0</td>\n",
       "      <td>0</td>\n",
       "      <td>-0.233155</td>\n",
       "      <td>Fernando Belaúnde Terry (II)</td>\n",
       "      <td>91</td>\n",
       "      <td>1980Q4</td>\n",
       "      <td>8.554780</td>\n",
       "      <td>0.0</td>\n",
       "    </tr>\n",
       "    <tr>\n",
       "      <th>2</th>\n",
       "      <td>Manuel Ulloa Elías</td>\n",
       "      <td>1981-01-01</td>\n",
       "      <td>1981-03-31</td>\n",
       "      <td>0</td>\n",
       "      <td>0</td>\n",
       "      <td>-0.233155</td>\n",
       "      <td>Fernando Belaúnde Terry (II)</td>\n",
       "      <td>89</td>\n",
       "      <td>1981Q1</td>\n",
       "      <td>7.339334</td>\n",
       "      <td>0.0</td>\n",
       "    </tr>\n",
       "    <tr>\n",
       "      <th>3</th>\n",
       "      <td>Manuel Ulloa Elías</td>\n",
       "      <td>1981-04-01</td>\n",
       "      <td>1981-06-30</td>\n",
       "      <td>0</td>\n",
       "      <td>0</td>\n",
       "      <td>-0.233155</td>\n",
       "      <td>Fernando Belaúnde Terry (II)</td>\n",
       "      <td>90</td>\n",
       "      <td>1981Q2</td>\n",
       "      <td>6.393598</td>\n",
       "      <td>0.0</td>\n",
       "    </tr>\n",
       "    <tr>\n",
       "      <th>4</th>\n",
       "      <td>Manuel Ulloa Elías</td>\n",
       "      <td>1981-07-01</td>\n",
       "      <td>1981-09-30</td>\n",
       "      <td>0</td>\n",
       "      <td>0</td>\n",
       "      <td>-0.233155</td>\n",
       "      <td>Fernando Belaúnde Terry (II)</td>\n",
       "      <td>91</td>\n",
       "      <td>1981Q3</td>\n",
       "      <td>6.277576</td>\n",
       "      <td>0.0</td>\n",
       "    </tr>\n",
       "  </tbody>\n",
       "</table>\n",
       "</div>"
      ],
      "text/plain": [
       "                   id      start       stop  event  regimeFujimori  \\\n",
       "0  Manuel Ulloa Elías 1980-07-01 1980-09-30      0               0   \n",
       "1  Manuel Ulloa Elías 1980-10-01 1980-12-31      0               0   \n",
       "2  Manuel Ulloa Elías 1981-01-01 1981-03-31      0               0   \n",
       "3  Manuel Ulloa Elías 1981-04-01 1981-06-30      0               0   \n",
       "4  Manuel Ulloa Elías 1981-07-01 1981-09-30      0               0   \n",
       "\n",
       "   technocrat_trait_ltm          PresidentOfExecutive  duration Quarter  \\\n",
       "0             -0.233155  Fernando Belaúnde Terry (II)        91  1980Q3   \n",
       "1             -0.233155  Fernando Belaúnde Terry (II)        91  1980Q4   \n",
       "2             -0.233155  Fernando Belaúnde Terry (II)        89  1981Q1   \n",
       "3             -0.233155  Fernando Belaúnde Terry (II)        90  1981Q2   \n",
       "4             -0.233155  Fernando Belaúnde Terry (II)        91  1981Q3   \n",
       "\n",
       "        gdp  cases  \n",
       "0  4.115650    0.0  \n",
       "1  8.554780    0.0  \n",
       "2  7.339334    0.0  \n",
       "3  6.393598    0.0  \n",
       "4  6.277576    0.0  "
      ]
     },
     "execution_count": 14,
     "metadata": {},
     "output_type": "execute_result"
    }
   ],
   "source": [
    "ag_total.head()"
   ]
  },
  {
   "cell_type": "code",
   "execution_count": 18,
   "id": "a220487c-4698-47ae-a3e8-cfc9b657fe97",
   "metadata": {},
   "outputs": [],
   "source": [
    "ag_total.rename(columns={'cases':'censorCount'},inplace=True)\n",
    "ag_total['censorInQuarter']=ag_total['censorCount'].apply(lambda x: 1 if x > 0 else 0)"
   ]
  },
  {
   "cell_type": "code",
   "execution_count": 25,
   "id": "a78e2a01-e94c-4b63-92d2-703d6e55bf53",
   "metadata": {},
   "outputs": [
    {
     "data": {
      "text/plain": [
       "24    Alan García\n",
       "25    Alan García\n",
       "26    Alan García\n",
       "27    Alan García\n",
       "28    Alan García\n",
       "29    Alan García\n",
       "30    Alan García\n",
       "31    Alan García\n",
       "32    Alan García\n",
       "33    Alan García\n",
       "34    Alan García\n",
       "35    Alan García\n",
       "36    Alan García\n",
       "37    Alan García\n",
       "38    Alan García\n",
       "39    Alan García\n",
       "40    Alan García\n",
       "41    Alan García\n",
       "42    Alan García\n",
       "43    Alan García\n",
       "44    Alan García\n",
       "45    Alan García\n",
       "46    Alan García\n",
       "47    Alan García\n",
       "48    Alan García\n",
       "Name: PresidentOfExecutive, dtype: object"
      ]
     },
     "execution_count": 25,
     "metadata": {},
     "output_type": "execute_result"
    }
   ],
   "source": [
    "ag_total.loc[24:48,'PresidentOfExecutive']"
   ]
  },
  {
   "cell_type": "code",
   "execution_count": 20,
   "id": "6b53390f-28b8-42f1-9594-182a2c0e909e",
   "metadata": {},
   "outputs": [],
   "source": [
    "ag_total.to_parquet('ag_total.parquet')\n",
    "ag_total.to_excel('ag_total.xlsx',index=False)"
   ]
  },
  {
   "cell_type": "code",
   "execution_count": null,
   "id": "aefad3a1-0e42-4d9f-9064-b24f003d1fd9",
   "metadata": {},
   "outputs": [],
   "source": []
  }
 ],
 "metadata": {
  "kernelspec": {
   "display_name": "Python 3 (ipykernel)",
   "language": "python",
   "name": "python3"
  },
  "language_info": {
   "codemirror_mode": {
    "name": "ipython",
    "version": 3
   },
   "file_extension": ".py",
   "mimetype": "text/x-python",
   "name": "python",
   "nbconvert_exporter": "python",
   "pygments_lexer": "ipython3",
   "version": "3.11.9"
  }
 },
 "nbformat": 4,
 "nbformat_minor": 5
}
